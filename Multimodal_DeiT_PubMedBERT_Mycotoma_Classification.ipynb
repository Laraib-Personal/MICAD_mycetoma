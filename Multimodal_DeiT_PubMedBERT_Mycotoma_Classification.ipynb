{
  "cells": [
    {
      "cell_type": "markdown",
      "metadata": {},
      "source": [
        "# TRUE Multimodal Medical LLM for Mycotoma Disease Classification\n",
        "\n",
        "This notebook implements a **TRUE Multimodal Medical LLM** that uses **BOTH images AND medical text descriptions** for classifying Mycotoma disease.\n",
        "\n",
        "## Architecture\n",
        "- **Vision Encoder**: DeiT-Base Distilled (768-dim features)\n",
        "- **Text Encoder**: PubMedBERT Medical Language Model (256-dim features)\n",
        "- **Fusion**: Multimodal fusion module combining vision + text\n",
        "- **Output**: Mycotoma classification (BM vs FM)\n",
        "\n",
        "## Dataset\n",
        "- **Total Images**: 684\n",
        "- **BM (Brown Mycotoma)**: 320 images\n",
        "- **FM (Formosa Mycotoma)**: 364 images\n",
        "- **Medical Text**: Descriptions for each class\n"
      ]
    },
    {
      "cell_type": "code",
      "execution_count": 1,
      "metadata": {},
      "outputs": [
        {
          "name": "stdout",
          "output_type": "stream",
          "text": [
            "Using device: cuda\n",
            "GPU: NVIDIA GeForce RTX 4090 Laptop GPU\n",
            "GPU Memory: 15.99 GB\n"
          ]
        }
      ],
      "source": [
        "# Import necessary libraries\n",
        "import torch\n",
        "import torch.nn as nn\n",
        "import torch.optim as optim\n",
        "from torch.utils.data import Dataset, DataLoader, random_split\n",
        "from torchvision import transforms\n",
        "from PIL import Image\n",
        "import numpy as np\n",
        "import matplotlib.pyplot as plt\n",
        "import seaborn as sns\n",
        "from sklearn.metrics import accuracy_score, precision_score, recall_score, f1_score, confusion_matrix, roc_auc_score, roc_curve, matthews_corrcoef\n",
        "from tqdm import tqdm\n",
        "import os\n",
        "import pandas as pd\n",
        "\n",
        "# Set device\n",
        "device = torch.device('cuda' if torch.cuda.is_available() else 'cpu')\n",
        "print(f\"Using device: {device}\")\n",
        "if torch.cuda.is_available():\n",
        "    print(f\"GPU: {torch.cuda.get_device_name(0)}\")\n",
        "    print(f\"GPU Memory: {torch.cuda.get_device_properties(0).total_memory / 1024**3:.2f} GB\")\n",
        "\n",
        "# Optimize for GPU\n",
        "torch.backends.cudnn.benchmark = True\n",
        "sns.set_palette(\"husl\")\n"
      ]
    },
    {
      "cell_type": "markdown",
      "metadata": {},
      "source": [
        "## 1. Install Required Packages\n"
      ]
    },
    {
      "cell_type": "code",
      "execution_count": 2,
      "metadata": {},
      "outputs": [
        {
          "name": "stderr",
          "output_type": "stream",
          "text": [
            "\n",
            "[notice] A new release of pip is available: 24.1.2 -> 25.3\n",
            "[notice] To update, run: python.exe -m pip install --upgrade pip\n",
            "c:\\Users\\erazi\\AppData\\Local\\Programs\\Python\\Python310\\lib\\site-packages\\tqdm\\auto.py:21: TqdmWarning: IProgress not found. Please update jupyter and ipywidgets. See https://ipywidgets.readthedocs.io/en/stable/user_install.html\n",
            "  from .autonotebook import tqdm as notebook_tqdm\n"
          ]
        },
        {
          "name": "stdout",
          "output_type": "stream",
          "text": [
            "✅ All packages installed successfully!\n"
          ]
        }
      ],
      "source": [
        "# Install required packages for multimodal LLM\n",
        "!pip install transformers sentencepiece timm -q\n",
        "\n",
        "from transformers import AutoTokenizer, AutoModel\n",
        "import timm\n",
        "\n",
        "print(\"✅ All packages installed successfully!\")\n"
      ]
    },
    {
      "cell_type": "markdown",
      "metadata": {},
      "source": [
        "## 2. Dataset Analysis\n"
      ]
    },
    {
      "cell_type": "code",
      "execution_count": 3,
      "metadata": {},
      "outputs": [
        {
          "name": "stdout",
          "output_type": "stream",
          "text": [
            "Dataset Statistics:\n",
            "BM (Brown Mycotoma): 320 images\n",
            "FM (Formosa Mycotoma): 364 images\n",
            "Total: 684 images\n"
          ]
        },
        {
          "data": {
            "image/png": "[encoded data removed]",
            "text/plain": [
              "<Figure size 800x600 with 1 Axes>"
            ]
          },
          "metadata": {},
          "output_type": "display_data"
        }
      ],
      "source": [
        "# Analyze dataset\n",
        "bm_dir = 'BM'\n",
        "fm_dir = 'FM'\n",
        "\n",
        "bm_images = [f for f in os.listdir(bm_dir) if f.endswith('.jpg') or f.endswith('.jpeg')]\n",
        "fm_images = [f for f in os.listdir(fm_dir) if f.endswith('.jpg')]\n",
        "\n",
        "print(\"Dataset Statistics:\")\n",
        "print(f\"BM (Brown Mycotoma): {len(bm_images)} images\")\n",
        "print(f\"FM (Formosa Mycotoma): {len(fm_images)} images\")\n",
        "print(f\"Total: {len(bm_images) + len(fm_images)} images\")\n",
        "\n",
        "# Visualize distribution\n",
        "fig, ax = plt.subplots(figsize=(8, 6))\n",
        "classes = ['BM', 'FM']\n",
        "counts = [len(bm_images), len(fm_images)]\n",
        "colors = ['#8B4513', '#4682B4']\n",
        "\n",
        "bars = ax.bar(classes, counts, color=colors, alpha=0.7, edgecolor='black', linewidth=2)\n",
        "ax.set_ylabel('Number of Images', fontsize=12, fontweight='bold')\n",
        "ax.set_xlabel('Mycotoma Type', fontsize=12, fontweight='bold')\n",
        "ax.set_title('Dataset Distribution', fontsize=14, fontweight='bold')\n",
        "ax.grid(axis='y', alpha=0.3)\n",
        "\n",
        "for bar in bars:\n",
        "    height = bar.get_height()\n",
        "    ax.text(bar.get_x() + bar.get_width()/2., height,\n",
        "            f'{int(height)}', ha='center', va='bottom', fontsize=11, fontweight='bold')\n",
        "\n",
        "plt.tight_layout()\n",
        "plt.show()\n"
      ]
    },
    {
      "cell_type": "markdown",
      "metadata": {},
      "source": [
        "## 3. Medical Text Encoder (PubMedBERT)\n"
      ]
    },
    {
      "cell_type": "code",
      "execution_count": 4,
      "metadata": {},
      "outputs": [
        {
          "name": "stdout",
          "output_type": "stream",
          "text": [
            "✅ Medical text encoder defined!\n"
          ]
        }
      ],
      "source": [
        "class MedicalTextEncoder(nn.Module):\n",
        "    \"\"\"Encode medical text descriptions using PubMedBERT\"\"\"\n",
        "    def __init__(self):\n",
        "        super(MedicalTextEncoder, self).__init__()\n",
        "        # Use PubMedBERT - a medical language model\n",
        "        model_name = \"microsoft/BiomedNLP-PubMedBERT-base-uncased-abstract\"\n",
        "        self.tokenizer = AutoTokenizer.from_pretrained(model_name)\n",
        "        self.encoder = AutoModel.from_pretrained(model_name)\n",
        "        self.projection = nn.Linear(768, 256)  # PubMedBERT outputs 768 dim\n",
        "        self.device = None  # Will be set later\n",
        "        \n",
        "    def to(self, device):\n",
        "        self.device = device\n",
        "        self.encoder = self.encoder.to(device)\n",
        "        self.projection = self.projection.to(device)\n",
        "        return super().to(device)\n",
        "        \n",
        "    def forward(self, text_list):\n",
        "        # Tokenize text (no device parameter!)\n",
        "        encoded = self.tokenizer(text_list, return_tensors='pt', padding=True, truncation=True, max_length=128)\n",
        "        \n",
        "        # Move to device\n",
        "        if self.device is not None:\n",
        "            encoded = {k: v.to(self.device) for k, v in encoded.items()}\n",
        "        \n",
        "        # Get embeddings\n",
        "        with torch.no_grad():\n",
        "            outputs = self.encoder(**encoded)\n",
        "            text_embeddings = outputs.last_hidden_state[:, 0, :]  # CLS token\n",
        "        \n",
        "        # Project to match vision features\n",
        "        text_features = self.projection(text_embeddings)\n",
        "        return text_features\n",
        "\n",
        "print(\"✅ Medical text encoder defined!\")\n"
      ]
    },
    {
      "cell_type": "markdown",
      "metadata": {},
      "source": [
        "## 4. Multimodal Dataset with Text Descriptions\n"
      ]
    },
    {
      "cell_type": "code",
      "execution_count": 5,
      "metadata": {},
      "outputs": [
        {
          "name": "stdout",
          "output_type": "stream",
          "text": [
            "✅ Multimodal dataset class defined!\n"
          ]
        }
      ],
      "source": [
        "class MycotomaMultimodalDataset(Dataset):\n",
        "    \"\"\"Dataset with images AND medical text descriptions\"\"\"\n",
        "    def __init__(self, root_dir, transform=None):\n",
        "        self.root_dir = root_dir\n",
        "        self.transform = transform\n",
        "        self.images = []\n",
        "        self.labels = []\n",
        "        self.text_descriptions = []\n",
        "        \n",
        "        # Medical descriptions for each class\n",
        "        self.class_descriptions = {\n",
        "            0: \"Histopathological image showing brown mycotoma fungal grains with characteristic dark brown coloration and irregular shape. Eumycetoma caused by fungi, typically Madurella mycetomatis. Features include dark brown grains, irregular borders, and surrounding inflammatory cells.\",\n",
        "            1: \"Histopathological image showing formosa mycotoma fungal grains with characteristic pale coloration. Eumycetoma fungal infection with distinct pale fungal grains. Features include pale-colored grains, well-defined borders, and scattered distribution.\"\n",
        "        }\n",
        "        \n",
        "        # Load BM images\n",
        "        bm_dir = os.path.join(root_dir, 'BM')\n",
        "        bm_files = [f for f in os.listdir(bm_dir) if f.endswith('.jpg') or f.endswith('.jpeg')]\n",
        "        for file in bm_files:\n",
        "            self.images.append(os.path.join(bm_dir, file))\n",
        "            self.labels.append(0)\n",
        "            self.text_descriptions.append(self.class_descriptions[0])\n",
        "        \n",
        "        # Load FM images\n",
        "        fm_dir = os.path.join(root_dir, 'FM')\n",
        "        fm_files = [f for f in os.listdir(fm_dir) if f.endswith('.jpg')]\n",
        "        for file in fm_files:\n",
        "            self.images.append(os.path.join(fm_dir, file))\n",
        "            self.labels.append(1)\n",
        "            self.text_descriptions.append(self.class_descriptions[1])\n",
        "    \n",
        "    def __len__(self):\n",
        "        return len(self.images)\n",
        "    \n",
        "    def __getitem__(self, idx):\n",
        "        img_path = self.images[idx]\n",
        "        image = Image.open(img_path).convert('RGB')\n",
        "        label = self.labels[idx]\n",
        "        text_desc = self.text_descriptions[idx]\n",
        "        \n",
        "        if self.transform:\n",
        "            image = self.transform(image)\n",
        "        \n",
        "        return image, text_desc, label\n",
        "\n",
        "print(\"✅ Multimodal dataset class defined!\")\n"
      ]
    },
    {
      "cell_type": "markdown",
      "metadata": {},
      "source": [
        "## 5. TRUE Multimodal Medical LLM Model\n"
      ]
    },
    {
      "cell_type": "code",
      "execution_count": 6,
      "metadata": {},
      "outputs": [
        {
          "name": "stdout",
          "output_type": "stream",
          "text": [
            "✅ TRUE Multimodal model defined!\n"
          ]
        }
      ],
      "source": [
        "class TrueMedicalMultimodalLLM(nn.Module):\n",
        "    \"\"\"TRUE Multimodal Medical LLM with vision AND text\"\"\"\n",
        "    \n",
        "    def __init__(self, num_classes=2):\n",
        "        super(TrueMedicalMultimodalLLM, self).__init__()\n",
        "        \n",
        "        # Vision encoder\n",
        "        self.vision_encoder = timm.create_model('deit_base_distilled_patch16_224', pretrained=True, num_classes=0)\n",
        "        vision_dim = 768\n",
        "        \n",
        "        # Text encoder (ACTUALLY USED!)\n",
        "        self.text_encoder = MedicalTextEncoder()\n",
        "        text_dim = 256\n",
        "        \n",
        "        # Multimodal fusion\n",
        "        self.fusion = nn.Sequential(\n",
        "            nn.Linear(vision_dim + text_dim, 512),\n",
        "            nn.LayerNorm(512),\n",
        "            nn.GELU(),\n",
        "            nn.Dropout(0.2)\n",
        "        )\n",
        "        \n",
        "        # Medical reasoning\n",
        "        self.medical_reasoning = nn.Sequential(\n",
        "            nn.Linear(512, 256),\n",
        "            nn.LayerNorm(256),\n",
        "            nn.GELU(),\n",
        "            nn.Dropout(0.2)\n",
        "        )\n",
        "        \n",
        "        # Classification head\n",
        "        self.classifier = nn.Sequential(\n",
        "            nn.Linear(256, 128),\n",
        "            nn.LayerNorm(128),\n",
        "            nn.GELU(),\n",
        "            nn.Dropout(0.3),\n",
        "            nn.Linear(128, num_classes)\n",
        "        )\n",
        "    \n",
        "    def forward(self, images, text_descriptions):\n",
        "        # Vision features\n",
        "        vision_features = self.vision_encoder(images)\n",
        "        if len(vision_features.shape) > 2:\n",
        "            vision_features = vision_features.mean(dim=[2, 3]) if len(vision_features.shape) == 4 else vision_features.mean(dim=1)\n",
        "        \n",
        "        # Text features (REAL!)\n",
        "        text_features = self.text_encoder(text_descriptions)\n",
        "        \n",
        "        # Concatenate and fuse\n",
        "        combined = torch.cat([vision_features, text_features], dim=1)\n",
        "        fused = self.fusion(combined)\n",
        "        \n",
        "        # Medical reasoning\n",
        "        medical_features = self.medical_reasoning(fused)\n",
        "        \n",
        "        # Classify\n",
        "        logits = self.classifier(medical_features)\n",
        "        return logits\n",
        "\n",
        "print(\"✅ TRUE Multimodal model defined!\")\n"
      ]
    },
    {
      "cell_type": "markdown",
      "metadata": {},
      "source": [
        "## 6. Prepare Data\n"
      ]
    },
    {
      "cell_type": "code",
      "execution_count": 7,
      "metadata": {},
      "outputs": [
        {
          "name": "stdout",
          "output_type": "stream",
          "text": [
            "Multimodal dataset loaded: 684 samples\n",
            "Train batches: 35, Val batches: 9\n",
            "Batch size: 16\n"
          ]
        }
      ],
      "source": [
        "# Data transforms\n",
        "train_transform = transforms.Compose([\n",
        "    transforms.Resize((224, 224)),\n",
        "    transforms.RandomHorizontalFlip(),\n",
        "    transforms.RandomRotation(10),\n",
        "    transforms.ColorJitter(brightness=0.2, contrast=0.2, saturation=0.2),\n",
        "    transforms.ToTensor(),\n",
        "    transforms.Normalize(mean=[0.485, 0.456, 0.406], std=[0.229, 0.224, 0.225])\n",
        "])\n",
        "\n",
        "val_transform = transforms.Compose([\n",
        "    transforms.Resize((224, 224)),\n",
        "    transforms.ToTensor(),\n",
        "    transforms.Normalize(mean=[0.485, 0.456, 0.406], std=[0.229, 0.224, 0.225])\n",
        "])\n",
        "\n",
        "# Load multimodal dataset\n",
        "dataset = MycotomaMultimodalDataset('.', transform=train_transform)\n",
        "print(f\"Multimodal dataset loaded: {len(dataset)} samples\")\n",
        "\n",
        "# Split dataset\n",
        "train_size = int(0.8 * len(dataset))\n",
        "val_size = len(dataset) - train_size\n",
        "train_dataset, val_dataset = random_split(dataset, [train_size, val_size])\n",
        "val_dataset.dataset.transform = val_transform\n",
        "\n",
        "# Create dataloaders\n",
        "batch_size = 16\n",
        "train_loader = DataLoader(train_dataset, batch_size=batch_size, shuffle=True, num_workers=0, pin_memory=True)\n",
        "val_loader = DataLoader(val_dataset, batch_size=batch_size, shuffle=False, num_workers=0, pin_memory=True)\n",
        "\n",
        "print(f\"Train batches: {len(train_loader)}, Val batches: {len(val_loader)}\")\n",
        "print(f\"Batch size: {batch_size}\")\n"
      ]
    },
    {
      "cell_type": "markdown",
      "metadata": {},
      "source": [
        "## 7. Training Functions\n"
      ]
    },
    {
      "cell_type": "code",
      "execution_count": 8,
      "metadata": {},
      "outputs": [
        {
          "name": "stdout",
          "output_type": "stream",
          "text": [
            "✅ Training functions defined!\n"
          ]
        }
      ],
      "source": [
        "def train_epoch(model, dataloader, criterion, optimizer, device):\n",
        "    \"\"\"Train multimodal model for one epoch\"\"\"\n",
        "    model.train()\n",
        "    running_loss = 0.0\n",
        "    all_preds = []\n",
        "    all_labels = []\n",
        "    \n",
        "    for images, text_descriptions, labels in tqdm(dataloader, desc=\"Training\"):\n",
        "        images = images.to(device, non_blocking=True)\n",
        "        labels = labels.to(device, non_blocking=True)\n",
        "        \n",
        "        optimizer.zero_grad()\n",
        "        outputs = model(images, text_descriptions)  # Pass BOTH images and text!\n",
        "        loss = criterion(outputs, labels)\n",
        "        loss.backward()\n",
        "        optimizer.step()\n",
        "        \n",
        "        running_loss += loss.item()\n",
        "        _, preds = torch.max(outputs, 1)\n",
        "        all_preds.extend(preds.cpu().numpy())\n",
        "        all_labels.extend(labels.cpu().numpy())\n",
        "    \n",
        "    epoch_loss = running_loss / len(dataloader)\n",
        "    epoch_acc = accuracy_score(all_labels, all_preds)\n",
        "    return epoch_loss, epoch_acc\n",
        "\n",
        "def validate(model, dataloader, criterion, device):\n",
        "    \"\"\"Validate multimodal model\"\"\"\n",
        "    model.eval()\n",
        "    running_loss = 0.0\n",
        "    all_preds = []\n",
        "    all_labels = []\n",
        "    \n",
        "    with torch.no_grad():\n",
        "        for images, text_descriptions, labels in tqdm(dataloader, desc=\"Validating\"):\n",
        "            images = images.to(device, non_blocking=True)\n",
        "            labels = labels.to(device, non_blocking=True)\n",
        "            \n",
        "            outputs = model(images, text_descriptions)\n",
        "            loss = criterion(outputs, labels)\n",
        "            \n",
        "            running_loss += loss.item()\n",
        "            _, preds = torch.max(outputs, 1)\n",
        "            all_preds.extend(preds.cpu().numpy())\n",
        "            all_labels.extend(labels.cpu().numpy())\n",
        "    \n",
        "    epoch_loss = running_loss / len(dataloader)\n",
        "    epoch_acc = accuracy_score(all_labels, all_preds)\n",
        "    precision = precision_score(all_labels, all_preds, average='weighted')\n",
        "    recall = recall_score(all_labels, all_preds, average='weighted')\n",
        "    f1 = f1_score(all_labels, all_preds, average='weighted')\n",
        "    \n",
        "    return epoch_loss, epoch_acc, precision, recall, f1\n",
        "\n",
        "print(\"✅ Training functions defined!\")\n"
      ]
    },
    {
      "cell_type": "markdown",
      "metadata": {},
      "source": [
        "## 8. Initialize Model\n"
      ]
    },
    {
      "cell_type": "code",
      "execution_count": 9,
      "metadata": {},
      "outputs": [
        {
          "name": "stdout",
          "output_type": "stream",
          "text": [
            "✅ Model parameters: 196,170,370\n",
            "✅ Model initialized and ready for training!\n"
          ]
        }
      ],
      "source": [
        "# Initialize TRUE multimodal model\n",
        "model = TrueMedicalMultimodalLLM(num_classes=2).to(device)\n",
        "print(f\"✅ Model parameters: {sum(p.numel() for p in model.parameters()):,}\")\n",
        "\n",
        "# Set text encoder device\n",
        "model.text_encoder.device = device\n",
        "model.text_encoder.encoder = model.text_encoder.encoder.to(device)\n",
        "\n",
        "# Setup optimizer\n",
        "criterion = nn.CrossEntropyLoss()\n",
        "optimizer = optim.AdamW(model.parameters(), lr=1e-4, weight_decay=0.01)\n",
        "scheduler = optim.lr_scheduler.CosineAnnealingLR(optimizer, T_max=20)\n",
        "\n",
        "print(\"✅ Model initialized and ready for training!\")\n"
      ]
    },
    {
      "cell_type": "markdown",
      "metadata": {},
      "source": [
        "## 9. Train TRUE Multimodal Medical LLM\n"
      ]
    },
    {
      "cell_type": "code",
      "execution_count": 10,
      "metadata": {},
      "outputs": [
        {
          "name": "stdout",
          "output_type": "stream",
          "text": [
            "============================================================\n",
            "Training TRUE Multimodal Medical LLM (Vision + Text)\n",
            "============================================================\n",
            "\n",
            "Epoch 1/20\n"
          ]
        },
        {
          "name": "stderr",
          "output_type": "stream",
          "text": [
            "Training: 100%|██████████| 35/35 [00:10<00:00,  3.30it/s]\n",
            "Validating: 100%|██████████| 9/9 [00:01<00:00,  5.24it/s]\n"
          ]
        },
        {
          "name": "stdout",
          "output_type": "stream",
          "text": [
            "Train Loss: 0.2903, Train Acc: 0.8629\n",
            "Val Loss: 0.1179, Val Acc: 0.9489\n",
            "Precision: 0.9520, Recall: 0.9489, F1: 0.9492\n",
            "✓ Saved best model with val_acc: 0.9489\n",
            "\n",
            "Epoch 2/20\n"
          ]
        },
        {
          "name": "stderr",
          "output_type": "stream",
          "text": [
            "Training: 100%|██████████| 35/35 [00:10<00:00,  3.33it/s]\n",
            "Validating: 100%|██████████| 9/9 [00:01<00:00,  4.77it/s]\n"
          ]
        },
        {
          "name": "stdout",
          "output_type": "stream",
          "text": [
            "Train Loss: 0.1316, Train Acc: 0.9506\n",
            "Val Loss: 0.0781, Val Acc: 0.9781\n",
            "Precision: 0.9789, Recall: 0.9781, F1: 0.9780\n",
            "✓ Saved best model with val_acc: 0.9781\n",
            "\n",
            "Epoch 3/20\n"
          ]
        },
        {
          "name": "stderr",
          "output_type": "stream",
          "text": [
            "Training: 100%|██████████| 35/35 [00:10<00:00,  3.32it/s]\n",
            "Validating: 100%|██████████| 9/9 [00:01<00:00,  4.89it/s]\n"
          ]
        },
        {
          "name": "stdout",
          "output_type": "stream",
          "text": [
            "Train Loss: 0.0462, Train Acc: 0.9909\n",
            "Val Loss: 0.1502, Val Acc: 0.9635\n",
            "Precision: 0.9641, Recall: 0.9635, F1: 0.9633\n",
            "\n",
            "Epoch 4/20\n"
          ]
        },
        {
          "name": "stderr",
          "output_type": "stream",
          "text": [
            "Training: 100%|██████████| 35/35 [00:10<00:00,  3.20it/s]\n",
            "Validating: 100%|██████████| 9/9 [00:01<00:00,  4.55it/s]\n"
          ]
        },
        {
          "name": "stdout",
          "output_type": "stream",
          "text": [
            "Train Loss: 0.0186, Train Acc: 0.9982\n",
            "Val Loss: 0.1478, Val Acc: 0.9708\n",
            "Precision: 0.9711, Recall: 0.9708, F1: 0.9707\n",
            "\n",
            "Epoch 5/20\n"
          ]
        },
        {
          "name": "stderr",
          "output_type": "stream",
          "text": [
            "Training: 100%|██████████| 35/35 [00:11<00:00,  3.07it/s]\n",
            "Validating: 100%|██████████| 9/9 [00:01<00:00,  4.54it/s]\n"
          ]
        },
        {
          "name": "stdout",
          "output_type": "stream",
          "text": [
            "Train Loss: 0.0112, Train Acc: 1.0000\n",
            "Val Loss: 0.1534, Val Acc: 0.9708\n",
            "Precision: 0.9711, Recall: 0.9708, F1: 0.9707\n",
            "\n",
            "Epoch 6/20\n"
          ]
        },
        {
          "name": "stderr",
          "output_type": "stream",
          "text": [
            "Training: 100%|██████████| 35/35 [00:12<00:00,  2.85it/s]\n",
            "Validating: 100%|██████████| 9/9 [00:02<00:00,  4.48it/s]\n"
          ]
        },
        {
          "name": "stdout",
          "output_type": "stream",
          "text": [
            "Train Loss: 0.0085, Train Acc: 1.0000\n",
            "Val Loss: 0.1577, Val Acc: 0.9708\n",
            "Precision: 0.9711, Recall: 0.9708, F1: 0.9707\n",
            "\n",
            "Epoch 7/20\n"
          ]
        },
        {
          "name": "stderr",
          "output_type": "stream",
          "text": [
            "Training: 100%|██████████| 35/35 [00:12<00:00,  2.76it/s]\n",
            "Validating: 100%|██████████| 9/9 [00:02<00:00,  4.33it/s]\n"
          ]
        },
        {
          "name": "stdout",
          "output_type": "stream",
          "text": [
            "Train Loss: 0.0074, Train Acc: 1.0000\n",
            "Val Loss: 0.1610, Val Acc: 0.9708\n",
            "Precision: 0.9711, Recall: 0.9708, F1: 0.9707\n",
            "\n",
            "Epoch 8/20\n"
          ]
        },
        {
          "name": "stderr",
          "output_type": "stream",
          "text": [
            "Training: 100%|██████████| 35/35 [00:14<00:00,  2.41it/s]\n",
            "Validating: 100%|██████████| 9/9 [00:02<00:00,  3.02it/s]\n"
          ]
        },
        {
          "name": "stdout",
          "output_type": "stream",
          "text": [
            "Train Loss: 0.0059, Train Acc: 1.0000\n",
            "Val Loss: 0.1640, Val Acc: 0.9708\n",
            "Precision: 0.9711, Recall: 0.9708, F1: 0.9707\n",
            "\n",
            "Epoch 9/20\n"
          ]
        },
        {
          "name": "stderr",
          "output_type": "stream",
          "text": [
            "Training: 100%|██████████| 35/35 [00:16<00:00,  2.17it/s]\n",
            "Validating: 100%|██████████| 9/9 [00:03<00:00,  2.94it/s]\n"
          ]
        },
        {
          "name": "stdout",
          "output_type": "stream",
          "text": [
            "Train Loss: 0.0055, Train Acc: 1.0000\n",
            "Val Loss: 0.1666, Val Acc: 0.9708\n",
            "Precision: 0.9711, Recall: 0.9708, F1: 0.9707\n",
            "\n",
            "Epoch 10/20\n"
          ]
        },
        {
          "name": "stderr",
          "output_type": "stream",
          "text": [
            "Training: 100%|██████████| 35/35 [00:16<00:00,  2.17it/s]\n",
            "Validating: 100%|██████████| 9/9 [00:02<00:00,  3.04it/s]\n"
          ]
        },
        {
          "name": "stdout",
          "output_type": "stream",
          "text": [
            "Train Loss: 0.0051, Train Acc: 1.0000\n",
            "Val Loss: 0.1688, Val Acc: 0.9708\n",
            "Precision: 0.9711, Recall: 0.9708, F1: 0.9707\n",
            "\n",
            "Epoch 11/20\n"
          ]
        },
        {
          "name": "stderr",
          "output_type": "stream",
          "text": [
            "Training: 100%|██████████| 35/35 [00:16<00:00,  2.07it/s]\n",
            "Validating: 100%|██████████| 9/9 [00:02<00:00,  3.11it/s]\n"
          ]
        },
        {
          "name": "stdout",
          "output_type": "stream",
          "text": [
            "Train Loss: 0.0046, Train Acc: 1.0000\n",
            "Val Loss: 0.1706, Val Acc: 0.9708\n",
            "Precision: 0.9711, Recall: 0.9708, F1: 0.9707\n",
            "\n",
            "Epoch 12/20\n"
          ]
        },
        {
          "name": "stderr",
          "output_type": "stream",
          "text": [
            "Training: 100%|██████████| 35/35 [00:18<00:00,  1.93it/s]\n",
            "Validating: 100%|██████████| 9/9 [00:02<00:00,  3.15it/s]\n"
          ]
        },
        {
          "name": "stdout",
          "output_type": "stream",
          "text": [
            "Train Loss: 0.0047, Train Acc: 1.0000\n",
            "Val Loss: 0.1723, Val Acc: 0.9708\n",
            "Precision: 0.9711, Recall: 0.9708, F1: 0.9707\n",
            "\n",
            "Epoch 13/20\n"
          ]
        },
        {
          "name": "stderr",
          "output_type": "stream",
          "text": [
            "Training: 100%|██████████| 35/35 [00:15<00:00,  2.22it/s]\n",
            "Validating: 100%|██████████| 9/9 [00:02<00:00,  3.13it/s]\n"
          ]
        },
        {
          "name": "stdout",
          "output_type": "stream",
          "text": [
            "Train Loss: 0.0044, Train Acc: 1.0000\n",
            "Val Loss: 0.1735, Val Acc: 0.9708\n",
            "Precision: 0.9711, Recall: 0.9708, F1: 0.9707\n",
            "\n",
            "Epoch 14/20\n"
          ]
        },
        {
          "name": "stderr",
          "output_type": "stream",
          "text": [
            "Training: 100%|██████████| 35/35 [00:17<00:00,  1.97it/s]\n",
            "Validating: 100%|██████████| 9/9 [00:02<00:00,  3.08it/s]\n"
          ]
        },
        {
          "name": "stdout",
          "output_type": "stream",
          "text": [
            "Train Loss: 0.0042, Train Acc: 1.0000\n",
            "Val Loss: 0.1745, Val Acc: 0.9708\n",
            "Precision: 0.9711, Recall: 0.9708, F1: 0.9707\n",
            "\n",
            "Epoch 15/20\n"
          ]
        },
        {
          "name": "stderr",
          "output_type": "stream",
          "text": [
            "Training: 100%|██████████| 35/35 [00:15<00:00,  2.19it/s]\n",
            "Validating: 100%|██████████| 9/9 [00:02<00:00,  3.05it/s]\n"
          ]
        },
        {
          "name": "stdout",
          "output_type": "stream",
          "text": [
            "Train Loss: 0.0041, Train Acc: 1.0000\n",
            "Val Loss: 0.1752, Val Acc: 0.9708\n",
            "Precision: 0.9711, Recall: 0.9708, F1: 0.9707\n",
            "\n",
            "Epoch 16/20\n"
          ]
        },
        {
          "name": "stderr",
          "output_type": "stream",
          "text": [
            "Training: 100%|██████████| 35/35 [00:17<00:00,  2.06it/s]\n",
            "Validating: 100%|██████████| 9/9 [00:02<00:00,  3.15it/s]\n"
          ]
        },
        {
          "name": "stdout",
          "output_type": "stream",
          "text": [
            "Train Loss: 0.0037, Train Acc: 1.0000\n",
            "Val Loss: 0.1757, Val Acc: 0.9708\n",
            "Precision: 0.9711, Recall: 0.9708, F1: 0.9707\n",
            "\n",
            "Epoch 17/20\n"
          ]
        },
        {
          "name": "stderr",
          "output_type": "stream",
          "text": [
            "Training: 100%|██████████| 35/35 [00:17<00:00,  2.06it/s]\n",
            "Validating: 100%|██████████| 9/9 [00:03<00:00,  2.99it/s]\n"
          ]
        },
        {
          "name": "stdout",
          "output_type": "stream",
          "text": [
            "Train Loss: 0.0038, Train Acc: 1.0000\n",
            "Val Loss: 0.1760, Val Acc: 0.9708\n",
            "Precision: 0.9711, Recall: 0.9708, F1: 0.9707\n",
            "\n",
            "Epoch 18/20\n"
          ]
        },
        {
          "name": "stderr",
          "output_type": "stream",
          "text": [
            "Training: 100%|██████████| 35/35 [00:17<00:00,  2.06it/s]\n",
            "Validating: 100%|██████████| 9/9 [00:03<00:00,  2.75it/s]\n"
          ]
        },
        {
          "name": "stdout",
          "output_type": "stream",
          "text": [
            "Train Loss: 0.0038, Train Acc: 1.0000\n",
            "Val Loss: 0.1762, Val Acc: 0.9708\n",
            "Precision: 0.9711, Recall: 0.9708, F1: 0.9707\n",
            "\n",
            "Epoch 19/20\n"
          ]
        },
        {
          "name": "stderr",
          "output_type": "stream",
          "text": [
            "Training: 100%|██████████| 35/35 [00:16<00:00,  2.06it/s]\n",
            "Validating: 100%|██████████| 9/9 [00:02<00:00,  3.38it/s]\n"
          ]
        },
        {
          "name": "stdout",
          "output_type": "stream",
          "text": [
            "Train Loss: 0.0038, Train Acc: 1.0000\n",
            "Val Loss: 0.1763, Val Acc: 0.9708\n",
            "Precision: 0.9711, Recall: 0.9708, F1: 0.9707\n",
            "\n",
            "Epoch 20/20\n"
          ]
        },
        {
          "name": "stderr",
          "output_type": "stream",
          "text": [
            "Training: 100%|██████████| 35/35 [00:14<00:00,  2.41it/s]\n",
            "Validating: 100%|██████████| 9/9 [00:02<00:00,  3.75it/s]"
          ]
        },
        {
          "name": "stdout",
          "output_type": "stream",
          "text": [
            "Train Loss: 0.0037, Train Acc: 1.0000\n",
            "Val Loss: 0.1763, Val Acc: 0.9708\n",
            "Precision: 0.9711, Recall: 0.9708, F1: 0.9707\n",
            "\n",
            "============================================================\n",
            "Training Complete!\n",
            "Best Validation Accuracy: 0.9781\n",
            "============================================================\n"
          ]
        },
        {
          "name": "stderr",
          "output_type": "stream",
          "text": [
            "\n"
          ]
        }
      ],
      "source": [
        "# Training loop\n",
        "num_epochs = 20\n",
        "best_val_acc = 0.0\n",
        "train_losses, train_accs = [], []\n",
        "val_losses, val_accs = [], []\n",
        "\n",
        "print(\"=\"*60)\n",
        "print(\"Training TRUE Multimodal Medical LLM (Vision + Text)\")\n",
        "print(\"=\"*60)\n",
        "\n",
        "for epoch in range(num_epochs):\n",
        "    print(f\"\\nEpoch {epoch+1}/{num_epochs}\")\n",
        "    \n",
        "    # Train\n",
        "    train_loss, train_acc = train_epoch(model, train_loader, criterion, optimizer, device)\n",
        "    train_losses.append(train_loss)\n",
        "    train_accs.append(train_acc)\n",
        "    \n",
        "    # Validate\n",
        "    val_loss, val_acc, precision, recall, f1 = validate(model, val_loader, criterion, device)\n",
        "    val_losses.append(val_loss)\n",
        "    val_accs.append(val_acc)\n",
        "    \n",
        "    print(f\"Train Loss: {train_loss:.4f}, Train Acc: {train_acc:.4f}\")\n",
        "    print(f\"Val Loss: {val_loss:.4f}, Val Acc: {val_acc:.4f}\")\n",
        "    print(f\"Precision: {precision:.4f}, Recall: {recall:.4f}, F1: {f1:.4f}\")\n",
        "    \n",
        "    scheduler.step()\n",
        "    \n",
        "    # Save best model\n",
        "    if val_acc > best_val_acc:\n",
        "        best_val_acc = val_acc\n",
        "        torch.save(model.state_dict(), 'best_model_true_multimodal.pth')\n",
        "        print(f\"✓ Saved best model with val_acc: {best_val_acc:.4f}\")\n",
        "\n",
        "print(\"\\n\" + \"=\"*60)\n",
        "print(\"Training Complete!\")\n",
        "print(f\"Best Validation Accuracy: {best_val_acc:.4f}\")\n",
        "print(\"=\"*60)\n"
      ]
    },
    {
      "cell_type": "markdown",
      "metadata": {},
      "source": [
        "## 10. Comprehensive Evaluation\n"
      ]
    },
    {
      "cell_type": "code",
      "execution_count": 11,
      "metadata": {},
      "outputs": [
        {
          "name": "stderr",
          "output_type": "stream",
          "text": [
            "Evaluating: 100%|██████████| 9/9 [00:02<00:00,  3.56it/s]"
          ]
        },
        {
          "name": "stdout",
          "output_type": "stream",
          "text": [
            "\n",
            "============================================================\n",
            "COMPREHENSIVE RESULTS - TRUE Multimodal Medical LLM\n",
            "============================================================\n",
            "\n",
            "Confusion Matrix:\n",
            "[[53  3]\n",
            " [ 0 81]]\n",
            "\n",
            "AUC-ROC: 0.9991\n",
            "MCC: 0.9553\n",
            "\n",
            "TN: 53, FP: 3\n",
            "FN: 0, TP: 81\n",
            "============================================================\n"
          ]
        },
        {
          "name": "stderr",
          "output_type": "stream",
          "text": [
            "\n"
          ]
        }
      ],
      "source": [
        "# Load best model\n",
        "model.load_state_dict(torch.load('best_model_true_multimodal.pth'))\n",
        "\n",
        "# Comprehensive evaluation function\n",
        "def comprehensive_evaluate(model, dataloader, criterion, device):\n",
        "    \"\"\"Comprehensive evaluation with all metrics\"\"\"\n",
        "    model.eval()\n",
        "    all_preds = []\n",
        "    all_labels = []\n",
        "    all_probs = []\n",
        "    \n",
        "    with torch.no_grad():\n",
        "        for images, text_descriptions, labels in tqdm(dataloader, desc=\"Evaluating\"):\n",
        "            images = images.to(device, non_blocking=True)\n",
        "            labels = labels.to(device, non_blocking=True)\n",
        "            \n",
        "            outputs = model(images, text_descriptions)\n",
        "            probs = torch.softmax(outputs, dim=1)\n",
        "            \n",
        "            _, preds = torch.max(outputs, 1)\n",
        "            all_preds.extend(preds.cpu().numpy())\n",
        "            all_labels.extend(labels.cpu().numpy())\n",
        "            all_probs.extend(probs.cpu().numpy())\n",
        "    \n",
        "    # Calculate metrics\n",
        "    cm = confusion_matrix(all_labels, all_preds)\n",
        "    auc = roc_auc_score(all_labels, np.array(all_probs)[:, 1])\n",
        "    mcc = matthews_corrcoef(all_labels, all_preds)\n",
        "    fpr, tpr, thresholds = roc_curve(all_labels, np.array(all_probs)[:, 1])\n",
        "    \n",
        "    tn, fp, fn, tp = cm.ravel()\n",
        "    \n",
        "    return {\n",
        "        'confusion_matrix': cm,\n",
        "        'auc': auc,\n",
        "        'mcc': mcc,\n",
        "        'true_negatives': tn,\n",
        "        'false_positives': fp,\n",
        "        'false_negatives': fn,\n",
        "        'true_positives': tp,\n",
        "        'fpr': fpr,\n",
        "        'tpr': tpr\n",
        "    }\n",
        "\n",
        "# Evaluate\n",
        "results = comprehensive_evaluate(model, val_loader, criterion, device)\n",
        "\n",
        "print(\"\\n\" + \"=\"*60)\n",
        "print(\"COMPREHENSIVE RESULTS - TRUE Multimodal Medical LLM\")\n",
        "print(\"=\"*60)\n",
        "print(f\"\\nConfusion Matrix:\")\n",
        "print(results['confusion_matrix'])\n",
        "print(f\"\\nAUC-ROC: {results['auc']:.4f}\")\n",
        "print(f\"MCC: {results['mcc']:.4f}\")\n",
        "print(f\"\\nTN: {results['true_negatives']}, FP: {results['false_positives']}\")\n",
        "print(f\"FN: {results['false_negatives']}, TP: {results['true_positives']}\")\n",
        "print(\"=\"*60)\n"
      ]
    },
    {
      "cell_type": "markdown",
      "metadata": {},
      "source": [
        "## 11. Visualize Results\n"
      ]
    },
    {
      "cell_type": "markdown",
      "metadata": {},
      "source": [
        "### Confusion Matrix\n"
      ]
    },
    {
      "cell_type": "code",
      "execution_count": 12,
      "metadata": {},
      "outputs": [
        {
          "data": {
            "image/png": "[encoded data removed]",
            "text/plain": [
              "<Figure size 800x600 with 2 Axes>"
            ]
          },
          "metadata": {},
          "output_type": "display_data"
        },
        {
          "name": "stdout",
          "output_type": "stream",
          "text": [
            "✅ Saved: true_multimodal_confusion_matrix.png\n"
          ]
        }
      ],
      "source": [
        "# Plot confusion matrix\n",
        "fig, ax = plt.subplots(figsize=(8, 6))\n",
        "sns.heatmap(results['confusion_matrix'], annot=True, fmt='d', cmap='Oranges', \n",
        "            xticklabels=['BM', 'FM'], yticklabels=['BM', 'FM'], ax=ax)\n",
        "ax.set_title('TRUE Multimodal Medical LLM - Confusion Matrix', fontsize=14, fontweight='bold')\n",
        "ax.set_ylabel('True Label', fontsize=12)\n",
        "ax.set_xlabel('Predicted Label', fontsize=12)\n",
        "plt.tight_layout()\n",
        "plt.savefig('true_multimodal_confusion_matrix.png', dpi=150, bbox_inches='tight')\n",
        "plt.show()\n",
        "print(\"✅ Saved: true_multimodal_confusion_matrix.png\")\n"
      ]
    },
    {
      "cell_type": "markdown",
      "metadata": {},
      "source": [
        "### ROC Curve\n"
      ]
    },
    {
      "cell_type": "code",
      "execution_count": 13,
      "metadata": {},
      "outputs": [
        {
          "data": {
            "image/png": "[encoded data removed]",
            "text/plain": [
              "<Figure size 800x600 with 1 Axes>"
            ]
          },
          "metadata": {},
          "output_type": "display_data"
        },
        {
          "name": "stdout",
          "output_type": "stream",
          "text": [
            "✅ Saved: true_multimodal_roc_curve.png\n"
          ]
        }
      ],
      "source": [
        "# Plot ROC curve\n",
        "fig, ax = plt.subplots(figsize=(8, 6))\n",
        "ax.plot(results['fpr'], results['tpr'], \n",
        "        label=f'TRUE Multimodal LLM (AUC = {results[\"auc\"]:.4f})', \n",
        "        linewidth=2, color='#e67e22')\n",
        "ax.plot([0, 1], [0, 1], 'k--', label='Random Classifier (AUC = 0.5000)', linewidth=1)\n",
        "ax.set_xlabel('False Positive Rate', fontsize=12, fontweight='bold')\n",
        "ax.set_ylabel('True Positive Rate', fontsize=12, fontweight='bold')\n",
        "ax.set_title('TRUE Multimodal Medical LLM - ROC Curve', fontsize=14, fontweight='bold')\n",
        "ax.legend(loc='lower right', fontsize=11)\n",
        "ax.grid(True, alpha=0.3)\n",
        "plt.tight_layout()\n",
        "plt.savefig('true_multimodal_roc_curve.png', dpi=150, bbox_inches='tight')\n",
        "plt.show()\n",
        "print(\"✅ Saved: true_multimodal_roc_curve.png\")\n"
      ]
    },
    {
      "cell_type": "markdown",
      "metadata": {},
      "source": [
        "### Training Curves\n"
      ]
    },
    {
      "cell_type": "code",
      "execution_count": 14,
      "metadata": {},
      "outputs": [
        {
          "data": {
            "image/png": "[encoded data removed]",
            "text/plain": [
              "<Figure size 1500x500 with 2 Axes>"
            ]
          },
          "metadata": {},
          "output_type": "display_data"
        },
        {
          "name": "stdout",
          "output_type": "stream",
          "text": [
            "✅ Saved: true_multimodal_training_curves.png\n"
          ]
        }
      ],
      "source": [
        "# Plot training curves\n",
        "fig, axes = plt.subplots(1, 2, figsize=(15, 5))\n",
        "\n",
        "# Loss curves\n",
        "axes[0].plot(train_losses, label='Train Loss', linewidth=2, marker='o')\n",
        "axes[0].plot(val_losses, label='Val Loss', linewidth=2, marker='s')\n",
        "axes[0].set_xlabel('Epoch', fontsize=12, fontweight='bold')\n",
        "axes[0].set_ylabel('Loss', fontsize=12, fontweight='bold')\n",
        "axes[0].set_title('Training and Validation Loss', fontsize=14, fontweight='bold')\n",
        "axes[0].legend()\n",
        "axes[0].grid(True, alpha=0.3)\n",
        "\n",
        "# Accuracy curves\n",
        "axes[1].plot(train_accs, label='Train Acc', linewidth=2, marker='o')\n",
        "axes[1].plot(val_accs, label='Val Acc', linewidth=2, marker='s')\n",
        "axes[1].set_xlabel('Epoch', fontsize=12, fontweight='bold')\n",
        "axes[1].set_ylabel('Accuracy', fontsize=12, fontweight='bold')\n",
        "axes[1].set_title('Training and Validation Accuracy', fontsize=14, fontweight='bold')\n",
        "axes[1].legend()\n",
        "axes[1].grid(True, alpha=0.3)\n",
        "\n",
        "plt.suptitle('TRUE Multimodal Medical LLM - Training Progress', fontsize=16, fontweight='bold')\n",
        "plt.tight_layout()\n",
        "plt.savefig('true_multimodal_training_curves.png', dpi=150, bbox_inches='tight')\n",
        "plt.show()\n",
        "print(\"✅ Saved: true_multimodal_training_curves.png\")\n"
      ]
    },
    {
      "cell_type": "markdown",
      "metadata": {},
      "source": [
        "## 12. Final Results Summary\n"
      ]
    },
    {
      "cell_type": "code",
      "execution_count": 15,
      "metadata": {},
      "outputs": [
        {
          "name": "stdout",
          "output_type": "stream",
          "text": [
            "\n",
            "======================================================================\n",
            "FINAL RESULTS SUMMARY - TRUE Multimodal Medical LLM\n",
            "======================================================================\n",
            "             Metric    Value\n",
            "Validation Accuracy 0.978102\n",
            "          Precision 0.971060\n",
            "             Recall 0.970803\n",
            "           F1 Score 0.970716\n",
            "            AUC-ROC 0.999118\n",
            "                MCC 0.955315\n",
            "======================================================================\n",
            "\n",
            "✅ Results saved to 'true_multimodal_results.csv'\n",
            "\n",
            "✅ Model saved to 'best_model_true_multimodal.pth'\n",
            "\n",
            "✅ All visualizations saved!\n",
            "\n",
            "🎉 TRUE Multimodal Medical LLM Training Complete!\n"
          ]
        }
      ],
      "source": [
        "# Create comprehensive results summary\n",
        "summary = {\n",
        "    'Metric': ['Validation Accuracy', 'Precision', 'Recall', 'F1 Score', 'AUC-ROC', 'MCC'],\n",
        "    'Value': [best_val_acc, precision, recall, f1, results['auc'], results['mcc']]\n",
        "}\n",
        "\n",
        "df = pd.DataFrame(summary)\n",
        "print(\"\\n\" + \"=\"*70)\n",
        "print(\"FINAL RESULTS SUMMARY - TRUE Multimodal Medical LLM\")\n",
        "print(\"=\"*70)\n",
        "print(df.to_string(index=False))\n",
        "print(\"=\"*70)\n",
        "\n",
        "# Save to CSV\n",
        "df.to_csv('true_multimodal_results.csv', index=False)\n",
        "print(\"\\n✅ Results saved to 'true_multimodal_results.csv'\")\n",
        "print(\"\\n✅ Model saved to 'best_model_true_multimodal.pth'\")\n",
        "print(\"\\n✅ All visualizations saved!\")\n",
        "print(\"\\n🎉 TRUE Multimodal Medical LLM Training Complete!\")\n"
      ]
    },
    {
      "cell_type": "markdown",
      "metadata": {},
      "source": []
    },
    {
      "cell_type": "markdown",
      "metadata": {},
      "source": []
    }
  ],
  "metadata": {
    "kernelspec": {
      "display_name": "Python 3",
      "language": "python",
      "name": "python3"
    },
    "language_info": {
      "codemirror_mode": {
        "name": "ipython",
        "version": 3
      },
      "file_extension": ".py",
      "mimetype": "text/x-python",
      "name": "python",
      "nbconvert_exporter": "python",
      "pygments_lexer": "ipython3",
      "version": "3.10.10"
    }
  },
  "nbformat": 4,
  "nbformat_minor": 2
}
